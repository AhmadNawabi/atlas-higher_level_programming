{
 "cells": [
  {
   "cell_type": "code",
   "execution_count": 13,
   "id": "8e7f9b01",
   "metadata": {},
   "outputs": [
    {
     "name": "stdout",
     "output_type": "stream",
     "text": [
      "Original List: [1, -10, 100, 32, 4, 65, 88, 4]\n",
      "Max Value: 100\n"
     ]
    }
   ],
   "source": [
    "# define a function that finds max value in a list\n",
    "def find_max(my_list):\n",
    "    # check the list to make sure list is not empty\n",
    "    if len(my_list)==0:\n",
    "        return None\n",
    "    \n",
    "    # create a variable to store the max value \n",
    "    max_value = my_list[0]\n",
    "    \n",
    "    # Iterate throgh list to find the maximum\n",
    "    for num in my_list:\n",
    "        # check to find if any number in the list is greater\n",
    "        if num > max_value:\n",
    "            # find the max value and stored in the max_value variable\n",
    "            max_value = num\n",
    "    # and return the max_value\n",
    "    return max_value\n",
    "\n",
    "\n",
    "new_list = [1, -10, 100, 32, 4, 65, 88, 4]\n",
    "max_value = find_max(new_list)\n",
    "print(\"Original List: {}\".format(new_list))\n",
    "print(\"Max Value: {}\".format(max_value))"
   ]
  },
  {
   "cell_type": "code",
   "execution_count": null,
   "id": "2b5e11e8",
   "metadata": {},
   "outputs": [],
   "source": []
  }
 ],
 "metadata": {
  "kernelspec": {
   "display_name": "Python 3 (ipykernel)",
   "language": "python",
   "name": "python3"
  },
  "language_info": {
   "codemirror_mode": {
    "name": "ipython",
    "version": 3
   },
   "file_extension": ".py",
   "mimetype": "text/x-python",
   "name": "python",
   "nbconvert_exporter": "python",
   "pygments_lexer": "ipython3",
   "version": "3.10.12"
  }
 },
 "nbformat": 4,
 "nbformat_minor": 5
}
